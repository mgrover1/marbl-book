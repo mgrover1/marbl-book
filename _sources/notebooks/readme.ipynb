{
 "cells": [
  {
   "cell_type": "markdown",
   "id": "b54eed4f-822e-4b17-a723-903bb56624c4",
   "metadata": {},
   "source": [
    "# CESM2-MARBL\n",
    "\n",
    "This page is for documenting the [Community Earth System Model Marine Biogeochemistry Library (CESM2 MARBL)](https://marbl-ecosys.github.io/versions/latest/index.html)\n",
    "\n",
    "It is meant to be an executable version of the accompanying paper, focused on documenting this library and providing a comparison of the model's performance. Throughout this book, you will find model documentation, in addition to executable code which can be used interactively."
   ]
  }
 ],
 "metadata": {
  "kernelspec": {
   "display_name": "Python 3",
   "language": "python",
   "name": "python3"
  },
  "language_info": {
   "codemirror_mode": {
    "name": "ipython",
    "version": 3
   },
   "file_extension": ".py",
   "mimetype": "text/x-python",
   "name": "python",
   "nbconvert_exporter": "python",
   "pygments_lexer": "ipython3",
   "version": "3.7.10"
  }
 },
 "nbformat": 4,
 "nbformat_minor": 5
}
