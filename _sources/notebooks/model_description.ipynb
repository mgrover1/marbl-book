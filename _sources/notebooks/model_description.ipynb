{
 "cells": [
  {
   "cell_type": "markdown",
   "id": "3f79a930-990b-4ce2-b209-ef6c11a91416",
   "metadata": {},
   "source": [
    "# Model Description\n",
    "\n",
    "## Phytoplankton Growth\n",
    "Here information about each part of the model will be described"
   ]
  }
 ],
 "metadata": {
  "kernelspec": {
   "display_name": "Python 3",
   "language": "python",
   "name": "python3"
  },
  "language_info": {
   "codemirror_mode": {
    "name": "ipython",
    "version": 3
   },
   "file_extension": ".py",
   "mimetype": "text/x-python",
   "name": "python",
   "nbconvert_exporter": "python",
   "pygments_lexer": "ipython3",
   "version": "3.7.10"
  }
 },
 "nbformat": 4,
 "nbformat_minor": 5
}
