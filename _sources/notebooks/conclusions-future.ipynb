{
 "cells": [
  {
   "cell_type": "markdown",
   "id": "d1dc8c6d-51f0-4273-9112-c4a53a6e93e3",
   "metadata": {},
   "source": [
    "# Conclusions\n",
    "\n",
    "Here we will describe future directions with this work"
   ]
  }
 ],
 "metadata": {
  "kernelspec": {
   "display_name": "Python 3",
   "language": "python",
   "name": "python3"
  },
  "language_info": {
   "codemirror_mode": {
    "name": "ipython",
    "version": 3
   },
   "file_extension": ".py",
   "mimetype": "text/x-python",
   "name": "python",
   "nbconvert_exporter": "python",
   "pygments_lexer": "ipython3",
   "version": "3.7.10"
  }
 },
 "nbformat": 4,
 "nbformat_minor": 5
}
